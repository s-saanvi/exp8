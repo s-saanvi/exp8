import numpy as np, pandas as pd, matplotlib.pyplot as plt
from sklearn.datasets import load_breast_cancer
from sklearn.model_selection import train_test_split
from sklearn.tree import DecisionTreeClassifier, plot_tree
from sklearn.metrics import accuracy_score, classification_report, confusion_matrix

X, y = load_breast_cancer(return_X_y=True, as_frame=True)
Xtr, Xte, ytr, yte = train_test_split(X, y, test_size=0.2, random_state=42)
clf = DecisionTreeClassifier().fit(Xtr, ytr)
yp = clf.predict(Xte)

print(f"Acc: {accuracy_score(yte, yp):.2f}\n{classification_report(yte, yp)}\nCM:\n{confusion_matrix(yte, yp)}")

plt.figure(figsize=(16,8))
plot_tree(clf, feature_names=X.columns, class_names=['malignant','benign'], filled=True)
plt.show()

print("Predicted class:", ['malignant','benign'][clf.predict([X.iloc[0]])[0]])
